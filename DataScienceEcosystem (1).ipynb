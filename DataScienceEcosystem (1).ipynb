{
 "cells": [
  {
   "cell_type": "markdown",
   "id": "24b82c61",
   "metadata": {},
   "source": [
    "# Data Science Tools and Ecosystem"
   ]
  },
  {
   "cell_type": "markdown",
   "id": "adb10dda",
   "metadata": {},
   "source": [
    "In this notebook, we explore an overview of the Data Science Tools and Ecosystem, discussing the key tools, languages, libraries, and development environments commonly used by Data Scientists."
   ]
  },
  {
   "cell_type": "markdown",
   "id": "7f4e337d",
   "metadata": {},
   "source": [
    "Some of the popular languages that Data Scientists use are:\n",
    "1. Python\n",
    "2. R\n",
    "3. SQL\n"
   ]
  },
  {
   "cell_type": "markdown",
   "id": "f897694b",
   "metadata": {},
   "source": [
    "Some of the commonly used libraries used by Data Scientists include:\n",
    "1. NumPy\n",
    "2. Pandas\n",
    "3. Matplotlib"
   ]
  },
  {
   "cell_type": "markdown",
   "id": "fafd4ec7",
   "metadata": {},
   "source": [
    "| Data Science Tools                                      |\n",
    "|---------------------------------------------------------|\n",
    "| SAS. It is one of those data science tools which are specifically designed for statistical operation |\n",
    "| Apache Spark                                            |\n",
    "| BigML                                                   |\n"
   ]
  },
  {
   "cell_type": "markdown",
   "id": "7f068ff0",
   "metadata": {},
   "source": [
    "### Below are a few examples of evaluating arithmetic expressions in Python.\n"
   ]
  },
  {
   "cell_type": "code",
   "execution_count": 1,
   "id": "2b8ab59c",
   "metadata": {},
   "outputs": [
    {
     "data": {
      "text/plain": [
       "17"
      ]
     },
     "execution_count": 1,
     "metadata": {},
     "output_type": "execute_result"
    }
   ],
   "source": [
    "#This a simple arithmetic expression to mutiply then add integers\n",
    "\n",
    "result = (3 * 4) + 5\n",
    "result\n"
   ]
  },
  {
   "cell_type": "code",
   "execution_count": 2,
   "id": "205055bb",
   "metadata": {},
   "outputs": [
    {
     "data": {
      "text/plain": [
       "3.3333333333333335"
      ]
     },
     "execution_count": 2,
     "metadata": {},
     "output_type": "execute_result"
    }
   ],
   "source": [
    "#This will convert 200 minutes to hours by diving by 60\n",
    "\n",
    "minutes = 200\n",
    "hours = minutes / 60\n",
    "hours"
   ]
  },
  {
   "cell_type": "markdown",
   "id": "82bc1d6d",
   "metadata": {},
   "source": [
    "**Objectives:**\n",
    "\n",
    "- Extracting insights from data\n",
    "- Developing predictive models\n",
    "- Improving data quality and reliability:"
   ]
  },
  {
   "cell_type": "markdown",
   "id": "906c4b15",
   "metadata": {},
   "source": [
    "## Author\n",
    "Sherwin Samuel"
   ]
  },
  {
   "cell_type": "markdown",
   "id": "2b2ed043",
   "metadata": {},
   "source": []
  },
  {
   "cell_type": "code",
   "execution_count": null,
   "id": "d2e0f786",
   "metadata": {},
   "outputs": [],
   "source": []
  }
 ],
 "metadata": {
  "kernelspec": {
   "display_name": "openmmlab",
   "language": "python",
   "name": "openmmlab"
  },
  "language_info": {
   "codemirror_mode": {
    "name": "ipython",
    "version": 3
   },
   "file_extension": ".py",
   "mimetype": "text/x-python",
   "name": "python",
   "nbconvert_exporter": "python",
   "pygments_lexer": "ipython3",
   "version": "3.8.16"
  }
 },
 "nbformat": 4,
 "nbformat_minor": 5
}
